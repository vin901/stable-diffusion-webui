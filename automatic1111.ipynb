{
  "cells": [
    {
      "cell_type": "markdown",
      "metadata": {
        "id": "view-in-github",
        "colab_type": "text"
      },
      "source": [
        "<a href=\"https://colab.research.google.com/github/vin901/stable-diffusion-webui/blob/master/automatic1111.ipynb\" target=\"_parent\"><img src=\"https://colab.research.google.com/assets/colab-badge.svg\" alt=\"Open In Colab\"/></a>"
      ]
    },
    {
      "cell_type": "markdown",
      "metadata": {
        "id": "A6OFCYOzNjDX"
      },
      "source": [
        "# [Stable Diffusion WebUI Colab](https://github.com/ddPn08/stable-diffusion-webui-colab) by [ddPn08](https://github.com/ddpn08/)\n",
        "\n",
        "## Wiki\n",
        "https://github.com/ddPn08/automatic1111-colab/wiki\n",
        "\n",
        "<br />\n",
        "\n",
        "# Troubleshooting (不具合が発生したら)\n",
        "1. First, check the wiki and changelog. (まずは、Wikiと変更ログを確認してください。)\n",
        "  - [Wiki](https://github.com/ddPn08/automatic1111-colab/wiki)\n",
        "  - [CHANGELOG | 変更ログ](#scrollTo=moDR3lrJVsE8)\n",
        "\n",
        "2. If you still can't figure it out, open a Github issue. (それでもわからない場合はGithubのIssueを立ててください。)\n",
        "  - [Github Issue](https://github.com/ddPn08/automatic1111-colab/issues/new)."
      ]
    },
    {
      "cell_type": "code",
      "execution_count": null,
      "metadata": {
        "id": "Y4xxtQfuJiWM"
      },
      "outputs": [],
      "source": [
        "! nvidia-smi\n",
        "! nvcc -V\n",
        "! free -h"
      ]
    },
    {
      "cell_type": "markdown",
      "metadata": {
        "id": "TE45Pqn_N81E"
      },
      "source": [
        "## 1 - Setup"
      ]
    },
    {
      "cell_type": "markdown",
      "metadata": {
        "id": "4cXkcQu6OEAu"
      },
      "source": [
        "### 1.1 Clone repository\n",
        "[Wiki / English](https://github.com/ddPn08/automatic1111-colab/wiki/1.-Setup-%7C-EN#11-clone-repository) - [Wiki / 日本語](https://github.com/ddPn08/automatic1111-colab/wiki/1.-Setup-%7C-JP#11-リポジトリのクローン)"
      ]
    },
    {
      "cell_type": "code",
      "execution_count": null,
      "metadata": {
        "cellView": "form",
        "id": "yzdbQDudNZ6j"
      },
      "outputs": [],
      "source": [
        "%cd /content/\n",
        "repository_url = \"https://github.com/AUTOMATIC1111/stable-diffusion-webui\"  # @param {type: \"string\"}\n",
        "webui_branch = \"master\"  # @param {type: \"string\"}\n",
        "\n",
        "! git clone {repository_url}\n",
        "%cd /content/stable-diffusion-webui\n",
        "! git checkout {webui_branch}"
      ]
    },
    {
      "cell_type": "markdown",
      "metadata": {
        "id": "tOHgDng2c0FX"
      },
      "source": [
        "### 1.2 Setup models\n",
        "[Wiki / English](https://github.com/ddPn08/automatic1111-colab/wiki/1.-Setup-%7C-EN#12-setup-models) - [Wiki / 日本語](https://github.com/ddPn08/automatic1111-colab/wiki/1.-Setup-%7C-JP#12-モデルのセットアップ)"
      ]
    },
    {
      "cell_type": "code",
      "execution_count": null,
      "metadata": {
        "cellView": "form",
        "id": "Mls4_48XOrTd"
      },
      "outputs": [],
      "source": [
        "# @markdown # Set up the StableDiffusion model.\n",
        "\n",
        "# @markdown ---\n",
        "\n",
        "%cd /content/\n",
        "\n",
        "data_dir = \"/content/data\"  # @param {type:\"string\"}\n",
        "\n",
        "# @markdown **Optional | Download the model if it isn't already in the `{data_dir}/models` folder**\n",
        "\n",
        "# @markdown Get huggingface access token from [here](https://huggingface.co/settings/tokens)\n",
        "auth_token = \"\"  # @param {type:\"string\"}\n",
        "\n",
        "download_if_missing = False  # @param {type:\"boolean\"}\n",
        "# @markdown If you use the SD 2.1 model, select its config from the dropdown\n",
        "\n",
        "# @markdown model_url2, 3, config_url2, 3, vae_url2, 3 are option. <br>\n",
        "# @markdown If you have models, config or vae that you want to load at the same time, please enter them.\n",
        "model_url = \"https://civitai.com/api/download/models/198246?type=Model&format=SafeTensor&size=pruned&fp=fp16\" #@param [\"https://huggingface.co/dreamlike-art/dreamlike-anime-1.0/resolve/main/dreamlike-anime-1.0.safetensors\", \"https://huggingface.co/AdamOswald1/anything-v5.0/resolve/main/Anything-V3.0.ckpt\", \"https://huggingface.co/CompVis/stable-diffusion-v-1-4-original/resolve/main/sd-v1-4.ckpt\", \"https://huggingface.co/stabilityai/stable-diffusion-2-1-base/resolve/main/v2-1_512-ema-pruned.ckpt\"] {allow-input: true}\n",
        "model_url2 = \"https://civitai.com/api/download/models/198962?type=Model&format=SafeTensor&size=pruned&fp=fp16\" #@param [\"https://huggingface.co/dreamlike-art/dreamlike-anime-1.0/resolve/main/dreamlike-anime-1.0.safetensors\", \"https://huggingface.co/AdamOswald1/anything-v5.0/resolve/main/Anything-V3.0.ckpt\", \"https://huggingface.co/CompVis/stable-diffusion-v-1-4-original/resolve/main/sd-v1-4.ckpt\", \"https://huggingface.co/stabilityai/stable-diffusion-2-1-base/resolve/main/v2-1_512-ema-pruned.ckpt\"] {allow-input: true}\n",
        "model_url3 = \"\" #@param [\"https://huggingface.co/dreamlike-art/dreamlike-anime-1.0/resolve/main/dreamlike-anime-1.0.safetensors\", \"https://huggingface.co/AdamOswald1/anything-v5.0/resolve/main/Anything-V3.0.ckpt\", \"https://huggingface.co/CompVis/stable-diffusion-v-1-4-original/resolve/main/sd-v1-4.ckpt\", \"https://huggingface.co/stabilityai/stable-diffusion-2-1-base/resolve/main/v2-1_512-ema-pruned.ckpt\"] {allow-input: true}\n",
        "\n",
        "config_url = \"\" #@param [\"\", \"https://raw.githubusercontent.com/Stability-AI/stablediffusion/main/configs/stable-diffusion/v2-inference.yaml\"] {allow-input: true}\n",
        "config_url2 = \"\" #@param [\"\", \"https://raw.githubusercontent.com/Stability-AI/stablediffusion/main/configs/stable-diffusion/v2-inference.yaml\"] {allow-input: true}\n",
        "config_url3 = \"\" #@param [\"\", \"https://raw.githubusercontent.com/Stability-AI/stablediffusion/main/configs/stable-diffusion/v2-inference.yaml\"] {allow-input: true}\n",
        "\n",
        "use_vae = False # @param {type:\"boolean\"}\n",
        "vae_url = \"https://huggingface.co/hakurei/waifu-diffusion-v1-4/resolve/main/vae/kl-f8-anime2.ckpt\" #@param [\"https://huggingface.co/hakurei/waifu-diffusion-v1-4/resolve/main/vae/kl-f8-anime2.ckpt\"] {allow-input: true}\n",
        "vae_url2 = \"\" #@param [\"https://huggingface.co/hakurei/waifu-diffusion-v1-4/resolve/main/vae/kl-f8-anime2.ckpt\"] {allow-input: true}\n",
        "vae_url3 = \"\" #@param [\"https://huggingface.co/hakurei/waifu-diffusion-v1-4/resolve/main/vae/kl-f8-anime2.ckpt\"] {allow-input: true}\n",
        "\n",
        "urls = [model_url, model_url2, model_url3, config_url, config_url2, config_url3]\n",
        "vae_urls = [vae_url, vae_url2, vae_url3]\n",
        "\n",
        "# @markdown **Optional | Use Google Drive**\n",
        "mount_google_drive = True  # @param {type:\"boolean\"}\n",
        "data_dir_gdrive = \"/content/drive/MyDrive/AI/automatic1111\"  # @param {type:\"string\"}\n",
        "# @markdown If you load multiple models/config/vae, it is recommended to check force_model_download_locally\n",
        "force_model_download_locally = True  # @param {type:\"boolean\"}\n",
        "force_remount = False  # @param {type:\"boolean\"}\n",
        "\n",
        "import os\n",
        "\n",
        "mount_success = False\n",
        "drive_path = \"/content/drive\"\n",
        "if mount_google_drive and not os.path.exists(drive_path):\n",
        "    from google.colab import drive\n",
        "\n",
        "    try:\n",
        "        drive.mount(drive_path, force_remount=force_remount)\n",
        "        os.makedirs(data_dir_gdrive, exist_ok=True)\n",
        "        ! rm -Rf {data_dir} && ln -s {data_dir_gdrive} {data_dir}\n",
        "        mount_success = True\n",
        "    except:\n",
        "        print(\"...error mounting drive or with drive path variables\")\n",
        "        print(\"...reverting to default path variables\")\n",
        "\n",
        "if os.path.exists(f\"{data_dir}/script.pre.sh\"):\n",
        "    ! chmod +x {data_dir}/script.pre.sh\n",
        "    ! {data_dir}/script.pre.sh\n",
        "\n",
        "models_path = f\"{data_dir}/models\"\n",
        "output_path = f\"{data_dir}/outputs\"\n",
        "config_path = f\"{data_dir}/config\"\n",
        "scripts_path = f\"{data_dir}/scripts\"\n",
        "extensions_file_path = f\"{data_dir}/extensions.txt\"\n",
        "\n",
        "if force_model_download_locally:\n",
        "    models_path = \"/content/models\"\n",
        "\n",
        "os.makedirs(models_path, exist_ok=True)\n",
        "os.makedirs(output_path, exist_ok=True)\n",
        "os.makedirs(config_path, exist_ok=True)\n",
        "os.makedirs(scripts_path, exist_ok=True)\n",
        "os.makedirs(f\"{models_path}/embeddings\", exist_ok=True)\n",
        "os.makedirs(f\"{models_path}/Stable-diffusion\", exist_ok=True)\n",
        "os.makedirs(f\"{models_path}/VAE\", exist_ok=True)\n",
        "os.makedirs(f\"{models_path}/hypernetworks\", exist_ok=True)\n",
        "os.makedirs(f\"{models_path}/dreambooth\", exist_ok=True)\n",
        "os.makedirs(f\"{models_path}/Lora\", exist_ok=True)\n",
        "\n",
        "for script in os.listdir(scripts_path):\n",
        "    ! rm -Rf stable-diffusion-webui/scripts/{script} && ln -s {scripts_path}/{script} stable-diffusion-webui/scripts/{script}\n",
        "\n",
        "for dir in os.listdir(models_path):\n",
        "    if dir == \"embeddings\":\n",
        "        ! rm -Rf stable-diffusion-webui/embeddings && ln -s {models_path}/embeddings stable-diffusion-webui/embeddings\n",
        "    else:\n",
        "        ! rm -Rf stable-diffusion-webui/models/{dir} && ln -s {models_path}/{dir} stable-diffusion-webui/models/{dir}\n",
        "\n",
        "! rm -Rf stable-diffusion-webui/outputs && ln -s {data_dir}/outputs stable-diffusion-webui/outputs\n",
        "\n",
        "for filename in [\"config.json\", \"ui-config.json\"]:\n",
        "    ! rm -f stable-diffusion-webui/{filename}\n",
        "    filepath = f\"{config_path}/{filename}\"\n",
        "    if not os.path.exists(filepath):\n",
        "        if filename.endswith(\".json\"):\n",
        "            with open(filepath, mode=\"w\") as f:\n",
        "                f.write(\"{}\")\n",
        "        else:\n",
        "            ! touch {config_path}/{filename}\n",
        "    ! ln -s {config_path}/{filename} stable-diffusion-webui/{filename}\n",
        "\n",
        "if download_if_missing:\n",
        "    for url in urls:\n",
        "        filename = url.split(\"/\")[-1]\n",
        "        if not os.path.exists(f\"{models_path}/Stable-diffusion/{filename}\"):\n",
        "            ! curl -LJ {url} -o {models_path}/Stable-diffusion/{filename} {'-H \"Authorization: Bearer ' + auth_token + '\"' if auth_token else \"\"}\n",
        "    if use_vae:\n",
        "      for vae_url in vae_urls:\n",
        "        vae_filename = vae_url.split(\"/\")[-1]\n",
        "        if not os.path.exists(f\"{models_path}/VAE/{vae_filename}\"):\n",
        "            ! curl -LJ {vae_url} -o {models_path}/VAE/{vae_filename} {'-H \"Authorization: Bearer ' + auth_token + '\"' if auth_token else \"\"}"
      ]
    },
    {
      "cell_type": "markdown",
      "metadata": {
        "id": "3JkrcrPBza-M"
      },
      "source": [
        "## 2 - Advanced - Launch preferences\n",
        "[Wiki / English](https://github.com/ddPn08/automatic1111-colab/wiki/2.-Launch-preferences-%7C-EN#2-launch-preferences) - [Wiki / 日本語](https://github.com/ddPn08/automatic1111-colab/wiki/2.-Launch-preferences-%7C-JP#2-起動設定)"
      ]
    },
    {
      "cell_type": "code",
      "execution_count": null,
      "metadata": {
        "id": "goUvyTZ4zd4l",
        "cellView": "form"
      },
      "outputs": [],
      "source": [
        "# @markdown ## Command line arguments\n",
        "\n",
        "import os\n",
        "\n",
        "no_half = False  # @param {type:\"boolean\"}\n",
        "no_half_vae = True  # @param {type:\"boolean\"}\n",
        "allow_code = False  # @param {type:\"boolean\"}\n",
        "no_progressbar_hiding = False  # @param {type:\"boolean\"}\n",
        "medvram = False  # @param {type:\"boolean\"}\n",
        "lowvram = False  # @param {type:\"boolean\"}\n",
        "deepdanbooru = False  # @param {type:\"boolean\"}\n",
        "xformers = True  # @param {type:\"boolean\"}\n",
        "disable_opt_split_attention = False  # @param {type:\"boolean\"}\n",
        "gradio_queue = True  # @param {type:\"boolean\"}\n",
        "\n",
        "# @markdown  <br >\n",
        "custom_arguments = \"--enable-insecure-extension-access\"  # @param {type:\"string\"}\n",
        "\n",
        "run_string_with_variables = {\n",
        "    \"--no-half\": f\"{no_half}\",\n",
        "    \"--no-half-vae\": f\"{no_half_vae}\",\n",
        "    \"--allow-code\": f\"{allow_code}\",\n",
        "    \"--no-progressbar-hiding\": f\"{no_progressbar_hiding}\",\n",
        "    \"--medvram\": f\"{medvram}\",\n",
        "    \"--lowvram\": f\"{lowvram}\",\n",
        "    \"--deepdanbooru\": f\"{deepdanbooru}\",\n",
        "    \"--xformers\": f\"{xformers}\",\n",
        "    \"--disable-opt-split-attention\": f\"{disable_opt_split_attention}\",\n",
        "}\n",
        "\n",
        "if use_vae:\n",
        "      for vae_url in vae_urls:\n",
        "        vae_filename = vae_url.split(\"/\")[-1]\n",
        "        if os.path.exists(f\"{models_path}/VAE/{vae_filename}\") and vae_filename:\n",
        "           key = \"--vae-path /content/stable-diffusion-webui/models/VAE/\" + vae_filename\n",
        "           run_string_with_variables[key] = f\"{use_vae}\"\n",
        "\n",
        "advanced_options = {k for (k, v) in run_string_with_variables.items() if v == \"True\"}\n",
        "\n",
        "# @markdown <br>\n",
        "\n",
        "# @markdown ## Enable password authentication (Prevent other users from using the WebUI)\n",
        "\n",
        "# @markdown  <br >\n",
        "\n",
        "use_gradio_auth = True  # @param {type:\"boolean\"}\n",
        "gradio_auth_username = \"user\"  # @param {type:\"string\"}\n",
        "gradio_auth_password = \"ai2go\"  # @param {type:\"string\"}\n",
        "\n",
        "# @markdown <br>\n",
        "\n",
        "# @markdown # Advanced | Network preferences\n",
        "\n",
        "# @markdown <br>\n",
        "\n",
        "# @markdown ## Optional | Ngrok Tunnel\n",
        "# @markdown Get token from [here](https://dashboard.ngrok.com/get-started/your-authtoken)\n",
        "use_ngrok = False  # @param {type: \"boolean\"}\n",
        "load_token_from_gdrive = True  # @param {type:\"boolean\"}\n",
        "ngrok_auth_token = \"\"  # @param {type: \"string\"}\n",
        "ngrok_region = \"default\"  # @param [\"default\", \"us\", \"eu\", \"au\", \"ap\", \"sa\", \"jp\", \"in\"]\n",
        "\n",
        "if os.path.exists(f\"{data_dir}/ngrok.txt\") and use_ngrok:\n",
        "    with open(f\"{data_dir}/ngrok.txt\", mode=\"r\") as f:\n",
        "        lines = f.readlines()\n",
        "        if not ngrok_auth_token and len(lines) > 0:\n",
        "            ngrok_auth_token = lines[0].strip()\n",
        "        if ngrok_region == \"default\" and len(lines) > 1:\n",
        "            ngrok_region = lines[1].strip()\n",
        "\n",
        "with open(f\"{data_dir}/ngrok.txt\", mode=\"w\") as f:\n",
        "    f.write(f\"{ngrok_auth_token}\\n{ngrok_region}\")\n",
        "\n",
        "if not ngrok_region or ngrok_region == \"default\":\n",
        "    ngrok_region = \"us\"\n",
        "\n",
        "# @markdown <br>\n",
        "\n",
        "# @markdown ## Extensions\n",
        "load_extensions_from_gdrive = True  # @param {type:\"boolean\"}\n",
        "extensions = \"https://github.com/yfszzx/stable-diffusion-webui-images-browser, https://github.com/DominikDoom/a1111-sd-webui-tagcomplete\"  # @param {type:\"string\"}\n",
        "extensions = list(map(str.strip, extensions.split(\",\")))\n",
        "\n",
        "# @markdown <br>\n",
        "\n",
        "# @markdown ## Save extensions to Google Drive\n",
        "# @markdown **Deprecated** (Unexpected errors may occur)\n",
        "save_extensions_to_gdrive = False  # @param {type:\"boolean\"}\n",
        "\n",
        "if save_extensions_to_gdrive:\n",
        "    os.makedirs(f\"{data_dir}/extensions\", exist_ok=True)\n",
        "    ! rm -Rf stable-diffusion-webui/extensions && ln -s {data_dir}/extensions stable-diffusion-webui/extensions\n",
        "\n",
        "if load_extensions_from_gdrive and extensions_file_path:\n",
        "    if os.path.exists(extensions_file_path):\n",
        "        with open(extensions_file_path, mode=\"r\") as f:\n",
        "            for s in f:\n",
        "                url = s.strip()\n",
        "                if url not in extensions:\n",
        "                    extensions.append(url)\n",
        "    with open(extensions_file_path, mode=\"w+\") as f:\n",
        "        f.write(\"\\n\".join(extensions))\n",
        "\n",
        "share_args = f\" --share {'--gradio-queue' if gradio_queue else ''}\"\n",
        "\n",
        "vars = \" \".join(advanced_options)\n",
        "if not use_ngrok:\n",
        "    vars += share_args\n",
        "elif ngrok_auth_token and ngrok_region:\n",
        "    vars += f\" --ngrok {ngrok_auth_token} --ngrok-region {ngrok_region}\"\n",
        "elif not ngrok_auth_token or not ngrok_region:\n",
        "    vars += share_args\n",
        "\n",
        "if use_gradio_auth:\n",
        "    vars += f\" --gradio-auth {gradio_auth_username}:{gradio_auth_password}\"\n",
        "\n",
        "vars += f\" --styles-file {data_dir}/config/styles.csv\"\n",
        "\n",
        "os.environ[\"COMMANDLINE_ARGS\"] = f\"{vars} {custom_arguments}\""
      ]
    },
    {
      "cell_type": "markdown",
      "source": [
        "# New Section"
      ],
      "metadata": {
        "id": "RM2fNgXM7Qbl"
      }
    },
    {
      "cell_type": "markdown",
      "source": [
        "# New Section"
      ],
      "metadata": {
        "id": "lO6__ida7Q_Q"
      }
    },
    {
      "cell_type": "markdown",
      "metadata": {
        "id": "htQtwGXHTaob"
      },
      "source": [
        "## 3 - Launch WebUI\n",
        "[Wiki / English](https://github.com/ddPn08/automatic1111-colab/wiki/3.-Run-%7C-EN#set-up-the-environment) - [Wiki / 日本語](https://github.com/ddPn08/automatic1111-colab/wiki/3.-Run-%7C-JP)"
      ]
    },
    {
      "cell_type": "code",
      "execution_count": null,
      "metadata": {
        "id": "Ao2t5h5qG9HD",
        "cellView": "form"
      },
      "outputs": [],
      "source": [
        "# @markdown ## Setup environment\n",
        "# @markdown This may take up to 5 minutes\n",
        "\n",
        "\n",
        "%cd /content/stable-diffusion-webui/extensions\n",
        "\n",
        "import os\n",
        "import sys\n",
        "\n",
        "for extension in extensions:\n",
        "    if extension.startswith(\"#\"):\n",
        "        continue\n",
        "    ! git clone {extension}\n",
        "    extension_name, _ = os.path.splitext(extension.split(\"/\")[-1])\n",
        "    if not os.path.isdir(extension_name):\n",
        "      ! git clone {extension}\n",
        "    else:\n",
        "      ! cd {extension_name} && git fetch\n",
        "\n",
        "%cd /content\n",
        "\n",
        "conda_dir = \"/opt/conda\"  # @param{type:\"string\"}\n",
        "conda_bin = os.path.join(conda_dir, \"bin\", \"conda\")\n",
        "\n",
        "if not os.path.exists(conda_bin):\n",
        "    ! curl -O https://repo.anaconda.com/miniconda/Miniconda3-latest-Linux-x86_64.sh\n",
        "    ! chmod +x Miniconda3-latest-Linux-x86_64.sh\n",
        "    ! bash ./Miniconda3-latest-Linux-x86_64.sh -b -f -p {conda_dir}\n",
        "    ! rm Miniconda3-latest-Linux-x86_64.sh\n",
        "\n",
        "\n",
        "install_script = f\"\"\"\n",
        "eval \"$({conda_bin} shell.bash hook)\"\n",
        "cd stable-diffusion-webui\n",
        "python3 -m pip install --upgrade tensorrt triton\n",
        "python -c 'from launch import prepare_environment; prepare_environment()'\n",
        "\"\"\"\n",
        "\n",
        "! {install_script}\n",
        "\n",
        "# @markdown\n",
        "# @markdown ## Optional | Apply low RAM patch\n",
        "apply_lowram_patch = True  # @param {type: \"boolean\"}\n",
        "\n",
        "if apply_lowram_patch:\n",
        "    patches_dir = \"/content/patches\"\n",
        "    os.makedirs(patches_dir, exist_ok=True)\n",
        "    ! cd {patches_dir} && curl -LO https://raw.githubusercontent.com/ddPn08/automatic1111-colab/main/patches/stablediffusion-lowram.patch\n",
        "    ! cd /content/stable-diffusion-webui/repositories/stable-diffusion-stability-ai && git apply {patches_dir}/stablediffusion-lowram.patch\n",
        "\n",
        "\n",
        "os.environ[\n",
        "    \"LD_LIBRARY_PATH\"\n",
        "] = f\"{os.environ['LD_LIBRARY_PATH']}:/usr/local/envs/automatic/lib\"\n",
        "\n",
        "if os.path.exists(f\"{data_dir}/script.post.sh\"):\n",
        "    ! chmod +x {data_dir}/script.post.sh\n",
        "    ! {data_dir}/script.post.sh"
      ]
    },
    {
      "cell_type": "code",
      "execution_count": null,
      "metadata": {
        "cellView": "form",
        "id": "Y4ebYsPqTrGb"
      },
      "outputs": [],
      "source": [
        "# @markdown # Run script\n",
        "# @markdown keep in mind that this script is set to run for ever.\n",
        "# @markdown > ※注意 このスクリプトは永久に実行されます。\n",
        "\n",
        "# @markdown\n",
        "\n",
        "# @markdown ### Important - click the public URL to launch WebUI in another tab\n",
        "# @markdown > ### 重要 - 公開URLをクリックしてWebUIを起動してください\n",
        "\n",
        "# @markdown ![](https://user-images.githubusercontent.com/71378929/189563599-6df78bcf-133b-41e8-a55d-8ca3783cd933.png)\n",
        "\n",
        "%cd /content/stable-diffusion-webui/\n",
        "! git pull\n",
        "\n",
        "run_script = f\"\"\"\n",
        "eval \"$({conda_bin} shell.bash hook)\"\n",
        "accelerate launch --num_cpu_threads_per_process 1 launch.py\n",
        "\"\"\"\n",
        "! {run_script}"
      ]
    },
    {
      "cell_type": "markdown",
      "metadata": {
        "id": "moDR3lrJVsE8"
      },
      "source": [
        "# CHANGELOG (変更ログ)\n",
        "\n",
        "## 2022/12/18 BREAKING CHANGE\n",
        "モデル等のディレクトリの構造を変更しました。くわしくは[こちら](https://github.com/ddPn08/automatic1111-colab/wiki/Data-directory-%7C-JP)  \n",
        "Changed the directory structure of models etc. For details [here](https://github.com/ddPn08/automatic1111-colab/wiki/Data-directory-%7C-EN)  \n",
        "\n",
        "## 2023/01/28\n",
        "- Simplified Python environment setup. / Python環境のセットアップをより簡潔にしました。\n",
        "- Removed Tailscale option. / Tailscaleオプションを削除しました。\n"
      ]
    }
  ],
  "metadata": {
    "accelerator": "GPU",
    "colab": {
      "provenance": [],
      "toc_visible": true,
      "include_colab_link": true
    },
    "gpuClass": "standard",
    "kernelspec": {
      "display_name": "automatic",
      "language": "python",
      "name": "python3"
    },
    "language_info": {
      "name": "python",
      "version": "3.10.0 | packaged by conda-forge | (default, Nov 10 2021, 13:20:59) [MSC v.1916 64 bit (AMD64)]"
    },
    "vscode": {
      "interpreter": {
        "hash": "27f3fb6862b547830c34fbd0390b87507e21782526fd5ca25cfe7dc4f2b0fdae"
      }
    }
  },
  "nbformat": 4,
  "nbformat_minor": 0
}